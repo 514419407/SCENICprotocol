{
 "cells": [
  {
   "cell_type": "markdown",
   "metadata": {},
   "source": [
    "__Author:__ Bram Van de Sande\n",
    "\n",
    "__Date:__ 14 JUN 2019\n",
    "\n",
    "__Outline:__ Running the SCENIC pipeline on scRNA-seq experiments.\n",
    "\n",
    "1. GSE60361 - Mouse brain\n",
    "2. GSE115978 - Cutaneous Melanoma (SKCM)\n",
    "3. GSE103322 - Head and Neck Squamous Cell Carcinoma (HNSC)\n",
    "4. E-MTAB-6149_6653 - Lung Adenocarcinoma (LUAD) and Lung Squamous Cell Carcinoma (LUSC)\n",
    "\n",
    "_Remark:_ Preprocessing is performed in 'Data acquisition and cleaning' notebook."
   ]
  },
  {
   "cell_type": "code",
   "execution_count": 2,
   "metadata": {},
   "outputs": [],
   "source": [
    "import pickle, os\n",
    "import numpy as np\n",
    "import operator as op\n",
    "import pandas as pd\n",
    "from cytoolz import compose\n",
    "from pyscenic.utils import load_motifs\n",
    "from pyscenic.transform import df2regulons\n",
    "from pyscenic.aucell import aucell"
   ]
  },
  {
   "cell_type": "code",
   "execution_count": 3,
   "metadata": {},
   "outputs": [],
   "source": [
    "RESOURCES_FOLDER = '/home/bramvds/Documents/scenic_resources'"
   ]
  },
  {
   "cell_type": "markdown",
   "metadata": {},
   "source": [
    "# GRN reconstruction\n",
    "\n",
    "List of TFs are taken from https://github.com/aertslab/pySCENIC/tree/master/resources .\n",
    "\n",
    "__GSE60361__\n",
    "\n",
    "```\n",
    "pyscenic grn GSE60361.qc.counts.csv mm_mgi_tfs.txt -o GSE60361.adjacencies.tsv --num_workers 32\n",
    "```\n",
    "\n",
    "```\n",
    "2019-06-13 17:32:45,044 - pyscenic.cli.pyscenic - INFO - Loading expression matrix.\n",
    "2019-06-13 17:33:07,766 - pyscenic.cli.pyscenic - INFO - Inferring regulatory networks.\n",
    "preparing dask client\n",
    "parsing input\n",
    "creating dask graph\n",
    "32 partitions\n",
    "computing dask graph\n",
    "not shutting down client, client was created externally\n",
    "finished\n",
    "2019-06-13 18:04:23,356 - pyscenic.cli.pyscenic - INFO - Writing results to file.\n",
    "```\n",
    "\n",
    "__GSE103322__\n",
    "\n",
    "```\n",
    "pyscenic grn GSE103322.qc.tpm.csv lambert2018.txt -o GSE103322.adjacencies.tsv --num_workers 32\n",
    "```\n",
    "\n",
    "```\n",
    "2019-04-25 09:07:25,605 - pyscenic.cli.pyscenic - INFO - Loading expression matrix.\n",
    "2019-04-25 09:08:25,870 - pyscenic.cli.pyscenic - INFO - Inferring regulatory networks.\n",
    "preparing dask client\n",
    "parsing input\n",
    "creating dask graph\n",
    "32 partitions\n",
    "computing dask graph\n",
    "not shutting down client, client was created externally\n",
    "finished\n",
    "2019-04-25 10:55:14,802 - pyscenic.cli.pyscenic - INFO - Writing results to file.\n",
    "```\n",
    "\n",
    "__GSE115978__\n",
    "\n",
    "\n",
    "```\n",
    "pyscenic grn GSE115978.qc.tpm.csv lambert2018.txt -o GSE115978.adjacencies.tsv --num_workers 4\n",
    "```\n",
    "\n",
    "```\n",
    "2019-04-25 11:22:20,360 - pyscenic.cli.pyscenic - INFO - Loading expression matrix.\n",
    "2019-04-25 11:23:37,612 - pyscenic.cli.pyscenic - INFO - Inferring regulatory networks.\n",
    "preparing dask client\n",
    "parsing input\n",
    "creating dask graph\n",
    "4 partitions\n",
    "computing dask graph\n",
    "not shutting down client, client was created externally\n",
    "finished\n",
    "2019-04-26 03:58:01,096 - pyscenic.cli.pyscenic - INFO - Writing results to file.\n",
    "```\n",
    "\n",
    "__E-MTAB-6149_6653__\n",
    "\n",
    "```\n",
    "pyscenic grn E-MTAB-6149_6653.qc.tpm.csv lambert2018.txt -o E-MTAB-6149_6653.adjacencies.tsv --num_workers 8\n",
    "```\n",
    "\n",
    "```\n",
    "2019-05-02 21:24:43,654 - pyscenic.cli.pyscenic - INFO - Loading expression matrix.\n",
    "2019-05-02 21:27:06,425 - pyscenic.cli.pyscenic - INFO - Inferring regulatory networks.\n",
    "preparing dask client\n",
    "parsing input\n",
    "creating dask graph\n",
    "8 partitions\n",
    "computing dask graph\n",
    "finished\n",
    "2019-05-03 17:38:49,059 - pyscenic.cli.pyscenic - INFO - Writing results to file.\n",
    "```"
   ]
  },
  {
   "cell_type": "markdown",
   "metadata": {},
   "source": [
    "# Regulon prediction aka cisTarget\n",
    "\n",
    "__GSE60361__\n",
    "\n",
    "```\n",
    "pyscenic ctx GSE60361.adjacencies.tsv mm9-500bp-upstream-10species.mc9nr.feather mm9-tss-centered-10kb-10species.mc9nr.feather mm9-tss-centered-5kb-10species.mc9nr.feather --annotations_fname motifs-v9-nr.mgi-m0.001-o0.0.tbl --expression_mtx_fname GSE60361.qc.counts.csv --output GSE60361.motifs.csv --num_workers 32\n",
    "```\n",
    "\n",
    "```\n",
    "2019-06-14 09:49:42,740 - pyscenic.cli.pyscenic - INFO - Creating modules.\n",
    "2019-06-14 09:49:45,193 - pyscenic.cli.pyscenic - INFO - Loading expression matrix.\n",
    "2019-06-14 09:52:42,315 - pyscenic.cli.pyscenic - INFO - Loading databases.\n",
    "2019-06-14 09:52:42,316 - pyscenic.cli.pyscenic - INFO - Calculating regulons.\n",
    "2019-06-14 10:18:06,172 - pyscenic.cli.pyscenic - INFO - Writing results to file.\n",
    "```\n",
    "\n",
    "__GSE103322__\n",
    "\n",
    "```\n",
    "pyscenic ctx GSE103322.adjacencies.tsv hg19-500bp-upstream-10species.mc9nr.feather hg19-tss-centered-5kb-10species.mc9nr.feather hg19-tss-centered-10kb-10species.mc9nr.feather --annotations_fname motifs-v9-nr.hgnc-m0.001-o0.0.tbl --expression_mtx_fname GSE103322.qc.tpm.csv --output GSE103322.motifs.csv --num_workers 32\n",
    "```\n",
    "\n",
    "```\n",
    "2019-04-26 09:44:55,314 - pyscenic.cli.pyscenic - INFO - Creating modules.\n",
    "2019-04-26 09:45:00,335 - pyscenic.cli.pyscenic - INFO - Loading expression matrix.\n",
    "2019-04-26 09:49:37,344 - pyscenic.cli.pyscenic - INFO - Loading databases.\n",
    "2019-04-26 09:49:37,345 - pyscenic.cli.pyscenic - INFO - Calculating regulons.\n",
    "2019-04-26 10:22:54,812 - pyscenic.cli.pyscenic - INFO - Writing results to file.\n",
    "```\n",
    "\n",
    "__GSE115978__\n",
    "\n",
    "\n",
    "```\n",
    "pyscenic ctx GSE115978.adjacencies.tsv hg19-500bp-upstream-10species.mc9nr.feather hg19-tss-centered-5kb-10species.mc9nr.feather hg19-tss-centered-10kb-10species.mc9nr.feather --annotations_fname motifs-v9-nr.hgnc-m0.001-o0.0.tbl --expression_mtx_fname GSE115978.qc.tpm.csv --output GSE115978.motifs.csv --num_workers 26\n",
    "```\n",
    "\n",
    "```\n",
    "2019-04-26 10:23:50,395 - pyscenic.cli.pyscenic - INFO - Creating modules.\n",
    "2019-04-26 10:23:56,229 - pyscenic.cli.pyscenic - INFO - Loading expression matrix.\n",
    "2019-04-26 10:29:09,101 - pyscenic.cli.pyscenic - INFO - Loading databases.\n",
    "2019-04-26 10:29:09,101 - pyscenic.cli.pyscenic - INFO - Calculating regulons.\n",
    "2019-04-26 11:11:10,784 - pyscenic.cli.pyscenic - INFO - Writing results to file\n",
    "```\n",
    "\n",
    "__E-MTAB-6149_6653__\n",
    "\n",
    "```\n",
    "pyscenic ctx E-MTAB-6149_6653.adjacencies.tsv hg19-500bp-upstream-10species.mc9nr.feather hg19-tss-centered-5kb-10species.mc9nr.feather hg19-tss-centered-10kb-10species.mc9nr.feather --annotations_fname motifs-v9-nr.hgnc-m0.001-o0.0.tbl --expression_mtx_fname E-MTAB-6149_6653.qc.tpm.csv --output E-MTAB-6149_6653.motifs.csv --num_workers 18\n",
    "```\n",
    "\n",
    "```\n",
    "2019-05-06 20:50:20,880 - pyscenic.cli.pyscenic - INFO - Creating modules.\n",
    "2019-05-06 20:50:23,528 - pyscenic.cli.pyscenic - INFO - Loading expression matrix.\n",
    "2019-05-06 20:55:30,410 - pyscenic.cli.pyscenic - INFO - Loading databases.\n",
    "2019-05-06 20:55:30,410 - pyscenic.cli.pyscenic - INFO - Calculating regulons.\n",
    "2019-05-06 21:31:19,109 - pyscenic.cli.pyscenic - INFO - Writing results to file.\n",
    "```"
   ]
  },
  {
   "cell_type": "code",
   "execution_count": 6,
   "metadata": {},
   "outputs": [],
   "source": [
    "def derive_regulons(code, folder=RESOURCES_FOLDER, db_names=('hg19-tss-centered-10kb-10species', \n",
    "                                 'hg19-500bp-upstream-10species', \n",
    "                                 'hg19-tss-centered-5kb-10species')):\n",
    "    # Load enriched motifs.\n",
    "    motifs = load_motifs(os.path.join(folder, '{}.motifs.csv'.format(code)))\n",
    "    motifs.columns = motifs.columns.droplevel(0)\n",
    "\n",
    "    def contains(*elems):\n",
    "        def f(context):\n",
    "            return any(elem in context for elem in elems)\n",
    "        return f\n",
    "\n",
    "    # For the creation of regulons we only keep the 10-species databases and the activating modules. We also remove the\n",
    "    # enriched motifs for the modules that were created using the method 'weight>50.0%' (because these modules are not part\n",
    "    # of the default settings of modules_from_adjacencies anymore.\n",
    "    motifs = motifs[\n",
    "        np.fromiter(map(compose(op.not_, contains('weight>50.0%')), motifs.Context), dtype=np.bool) & \\\n",
    "        np.fromiter(map(contains(*db_names), motifs.Context), dtype=np.bool) & \\\n",
    "        np.fromiter(map(contains('activating'), motifs.Context), dtype=np.bool)]\n",
    "\n",
    "    # We build regulons only using enriched motifs with a NES of 3.0 or higher; we take only directly annotated TFs or TF annotated\n",
    "    # for an orthologous gene into account; and we only keep regulons with at least 10 genes.\n",
    "    regulons = list(filter(lambda r: len(r) >= 10, df2regulons(motifs[(motifs['NES'] >= 3.0) \n",
    "                                                                      & ((motifs['Annotation'] == 'gene is directly annotated')\n",
    "                                                                        | (motifs['Annotation'].str.startswith('gene is orthologous to')\n",
    "                                                                           & motifs['Annotation'].str.endswith('which is directly annotated for motif')))\n",
    "                                                                     ])))\n",
    "    \n",
    "    # Rename regulons, i.e. remove suffix.\n",
    "    regulons = list(map(lambda r: r.rename(r.transcription_factor), regulons))\n",
    "\n",
    "    # Pickle these regulons.\n",
    "    with open(os.path.join(folder, '{}.regulons.dat'.format(code)), 'wb') as f:\n",
    "        pickle.dump(regulons, f)"
   ]
  },
  {
   "cell_type": "code",
   "execution_count": 7,
   "metadata": {},
   "outputs": [],
   "source": [
    "derive_regulons('GSE60361', db_names=('mm9-500bp-upstream-10species', \n",
    "                                 'mm9-tss-centered-10kb-10species', \n",
    "                                 'mm9-tss-centered-5kb-10species'))"
   ]
  },
  {
   "cell_type": "code",
   "execution_count": 16,
   "metadata": {},
   "outputs": [],
   "source": [
    "derive_regulons('GSE115978')"
   ]
  },
  {
   "cell_type": "code",
   "execution_count": 11,
   "metadata": {},
   "outputs": [],
   "source": [
    "derive_regulons('GSE103322')"
   ]
  },
  {
   "cell_type": "code",
   "execution_count": 5,
   "metadata": {},
   "outputs": [],
   "source": [
    "derive_regulons('E-MTAB-6149_6653')"
   ]
  },
  {
   "cell_type": "markdown",
   "metadata": {},
   "source": [
    "# Cellular enricment aka AUCell\n",
    "\n",
    "__GSE60361__"
   ]
  },
  {
   "cell_type": "code",
   "execution_count": 8,
   "metadata": {},
   "outputs": [],
   "source": [
    "with open(os.path.join(RESOURCES_FOLDER, '{}.regulons.dat'.format('GSE60361')), 'rb') as f:\n",
    "    regulons = pickle.load(f)"
   ]
  },
  {
   "cell_type": "code",
   "execution_count": 9,
   "metadata": {},
   "outputs": [],
   "source": [
    "exp_mtx = pd.read_csv(os.path.join(RESOURCES_FOLDER, '{}.qc.counts.csv'.format('GSE60361')), index_col=0)"
   ]
  },
  {
   "cell_type": "code",
   "execution_count": 11,
   "metadata": {},
   "outputs": [
    {
     "name": "stdout",
     "output_type": "stream",
     "text": [
      "CPU times: user 10.5 s, sys: 4.41 s, total: 14.9 s\n",
      "Wall time: 14 s\n"
     ]
    }
   ],
   "source": [
    "%%time\n",
    "auc_mtx = aucell(exp_mtx, regulons, num_workers=32)"
   ]
  },
  {
   "cell_type": "code",
   "execution_count": 12,
   "metadata": {},
   "outputs": [],
   "source": [
    "auc_mtx.to_csv(os.path.join(RESOURCES_FOLDER, '{}.auc.csv'.format('GSE60361')))"
   ]
  },
  {
   "cell_type": "markdown",
   "metadata": {},
   "source": [
    "__GSE115978__"
   ]
  },
  {
   "cell_type": "code",
   "execution_count": 13,
   "metadata": {},
   "outputs": [],
   "source": [
    "with open(os.path.join(RESOURCES_FOLDER, '{}.regulons.dat'.format('GSE115978')), 'rb') as f:\n",
    "    regulons = pickle.load(f)"
   ]
  },
  {
   "cell_type": "code",
   "execution_count": 14,
   "metadata": {},
   "outputs": [],
   "source": [
    "exp_mtx = pd.read_csv(os.path.join(RESOURCES_FOLDER, '{}.qc.tpm.csv'.format('GSE115978')), index_col=0)"
   ]
  },
  {
   "cell_type": "code",
   "execution_count": 16,
   "metadata": {},
   "outputs": [
    {
     "name": "stdout",
     "output_type": "stream",
     "text": [
      "CPU times: user 23.1 s, sys: 10.7 s, total: 33.8 s\n",
      "Wall time: 39.2 s\n"
     ]
    }
   ],
   "source": [
    "%%time\n",
    "auc_mtx = aucell(exp_mtx, regulons, num_workers=26)"
   ]
  },
  {
   "cell_type": "code",
   "execution_count": 19,
   "metadata": {},
   "outputs": [],
   "source": [
    "auc_mtx.to_csv(os.path.join(RESOURCES_FOLDER, '{}.auc.csv'.format('GSE115978')))"
   ]
  },
  {
   "cell_type": "markdown",
   "metadata": {},
   "source": [
    "__GSE103322__"
   ]
  },
  {
   "cell_type": "code",
   "execution_count": 20,
   "metadata": {},
   "outputs": [],
   "source": [
    "with open(os.path.join(RESOURCES_FOLDER, '{}.regulons.dat'.format('GSE103322')), 'rb') as f:\n",
    "    regulons = pickle.load(f)\n",
    "exp_mtx = pd.read_csv(os.path.join(RESOURCES_FOLDER, '{}.qc.tpm.csv'.format('GSE103322')), index_col=0)"
   ]
  },
  {
   "cell_type": "code",
   "execution_count": 21,
   "metadata": {},
   "outputs": [
    {
     "name": "stdout",
     "output_type": "stream",
     "text": [
      "CPU times: user 18.2 s, sys: 8.92 s, total: 27.2 s\n",
      "Wall time: 30.7 s\n"
     ]
    }
   ],
   "source": [
    "%%time\n",
    "auc_mtx = aucell(exp_mtx, regulons, num_workers=32)"
   ]
  },
  {
   "cell_type": "code",
   "execution_count": 22,
   "metadata": {},
   "outputs": [],
   "source": [
    "auc_mtx.to_csv(os.path.join(RESOURCES_FOLDER, '{}.auc.csv'.format('GSE103322')))"
   ]
  },
  {
   "cell_type": "markdown",
   "metadata": {},
   "source": [
    "__E-MTAB-6149_6653__"
   ]
  },
  {
   "cell_type": "code",
   "execution_count": 23,
   "metadata": {},
   "outputs": [],
   "source": [
    "with open(os.path.join(RESOURCES_FOLDER, '{}.regulons.dat'.format('E-MTAB-6149_6653')), 'rb') as f:\n",
    "    regulons = pickle.load(f)\n",
    "exp_mtx = pd.read_csv(os.path.join(RESOURCES_FOLDER, '{}.qc.tpm.csv'.format('E-MTAB-6149_6653')), index_col=0)"
   ]
  },
  {
   "cell_type": "code",
   "execution_count": 24,
   "metadata": {},
   "outputs": [
    {
     "name": "stdout",
     "output_type": "stream",
     "text": [
      "CPU times: user 54.2 s, sys: 31.2 s, total: 1min 25s\n",
      "Wall time: 1min 43s\n"
     ]
    }
   ],
   "source": [
    "%%time\n",
    "auc_mtx = aucell(exp_mtx, regulons, num_workers=18)"
   ]
  },
  {
   "cell_type": "code",
   "execution_count": 25,
   "metadata": {},
   "outputs": [],
   "source": [
    "auc_mtx.to_csv(os.path.join(RESOURCES_FOLDER, '{}.auc.csv'.format('E-MTAB-6149_6653')))"
   ]
  }
 ],
 "metadata": {
  "kernelspec": {
   "display_name": "scenic_protocol",
   "language": "python",
   "name": "scenic_protocol"
  },
  "language_info": {
   "codemirror_mode": {
    "name": "ipython",
    "version": 3
   },
   "file_extension": ".py",
   "mimetype": "text/x-python",
   "name": "python",
   "nbconvert_exporter": "python",
   "pygments_lexer": "ipython3",
   "version": "3.6.8"
  }
 },
 "nbformat": 4,
 "nbformat_minor": 2
}
